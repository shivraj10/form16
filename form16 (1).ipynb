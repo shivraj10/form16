{
  "nbformat": 4,
  "nbformat_minor": 0,
  "metadata": {
    "colab": {
      "name": "form16.ipynb",
      "provenance": []
    },
    "kernelspec": {
      "name": "python3",
      "display_name": "Python 3"
    },
    "language_info": {
      "name": "python"
    }
  },
  "cells": [
    {
      "cell_type": "code",
      "source": [
        "#install \n",
        "#!sudo apt install tesseract-ocr\n",
        "#!pip install easyocr\n",
        "#!pip install opencv-python-headless==4.1.2.30\n",
        "!pip install pdf2image\n",
        "!apt-get install poppler-utils "
      ],
      "metadata": {
        "id": "XDt-nR0EQoLC",
        "colab": {
          "base_uri": "https://localhost:8080/"
        },
        "outputId": "caf16949-88ef-460d-e3a1-beb8a7a9f177"
      },
      "execution_count": 17,
      "outputs": [
        {
          "output_type": "stream",
          "name": "stdout",
          "text": [
            "Looking in indexes: https://pypi.org/simple, https://us-python.pkg.dev/colab-wheels/public/simple/\n",
            "Collecting pdf2image\n",
            "  Downloading pdf2image-1.16.0-py3-none-any.whl (10 kB)\n",
            "Requirement already satisfied: pillow in /usr/local/lib/python3.7/dist-packages (from pdf2image) (9.2.0)\n",
            "Installing collected packages: pdf2image\n",
            "Successfully installed pdf2image-1.16.0\n",
            "Reading package lists... Done\n",
            "Building dependency tree       \n",
            "Reading state information... Done\n",
            "poppler-utils is already the newest version (0.62.0-2ubuntu2.12).\n",
            "The following package was automatically installed and is no longer required:\n",
            "  libnvidia-common-460\n",
            "Use 'apt autoremove' to remove it.\n",
            "0 upgraded, 0 newly installed, 0 to remove and 49 not upgraded.\n"
          ]
        }
      ]
    },
    {
      "cell_type": "code",
      "source": [
        "import easyocr\n",
        "import numpy as np\n",
        "from pdf2image import convert_from_path\n",
        "import cv2\n",
        "from PIL import Image\n",
        "import os\n",
        "import PIL\n",
        "from io import BytesIO"
      ],
      "metadata": {
        "id": "A-xgxrSaQjrB"
      },
      "execution_count": 38,
      "outputs": []
    },
    {
      "cell_type": "code",
      "execution_count": 44,
      "metadata": {
        "id": "DPeZ1TlMQhHe",
        "colab": {
          "base_uri": "https://localhost:8080/",
          "height": 548
        },
        "outputId": "fdae6121-0176-4a89-f34f-b782756ce0ee"
      },
      "outputs": [
        {
          "output_type": "stream",
          "name": "stderr",
          "text": [
            "CUDA not available - defaulting to CPU. Note: This module is much faster with a GPU.\n"
          ]
        },
        {
          "output_type": "stream",
          "name": "stdout",
          "text": [
            "financial_document_form 16_2019_11_26-12_44_23_568541_.jpg\n",
            "jpg\n",
            "/content/sample_data/UntitledFolder1/1.txt\n",
            "financial_document_form 16_2019_11_26-12_44_23_568244_.jpg\n",
            "jpg\n",
            "/content/sample_data/UntitledFolder1/2.txt\n",
            "financial_document_form 16_2019_11_26-12_44_23_406781_.jpg\n",
            "jpg\n",
            "/content/sample_data/UntitledFolder1/3.txt\n",
            "financial_document_form 16_2019_11_26-12_44_23_569090_.pdf\n",
            "pdf\n",
            "/content/sample_data/UntitledFolder1/4.txt\n",
            "financial_document_form 16_2019_11_26-12_44_23_576851_.pdf\n",
            "pdf\n"
          ]
        },
        {
          "output_type": "error",
          "ename": "ValueError",
          "evalue": "ignored",
          "traceback": [
            "\u001b[0;31m---------------------------------------------------------------------------\u001b[0m",
            "\u001b[0;31mValueError\u001b[0m                                Traceback (most recent call last)",
            "\u001b[0;32m<ipython-input-44-9da85319618b>\u001b[0m in \u001b[0;36m<module>\u001b[0;34m()\u001b[0m\n\u001b[1;32m      9\u001b[0m         \u001b[0;31m#print(images)\u001b[0m\u001b[0;34m\u001b[0m\u001b[0;34m\u001b[0m\u001b[0;34m\u001b[0m\u001b[0m\n\u001b[1;32m     10\u001b[0m         \u001b[0mline\u001b[0m\u001b[0;34m=\u001b[0m\u001b[0;34m''\u001b[0m\u001b[0;34m\u001b[0m\u001b[0;34m\u001b[0m\u001b[0m\n\u001b[0;32m---> 11\u001b[0;31m         \u001b[0mimage\u001b[0m \u001b[0;34m=\u001b[0m \u001b[0mnp\u001b[0m\u001b[0;34m.\u001b[0m\u001b[0mconcatenate\u001b[0m\u001b[0;34m(\u001b[0m\u001b[0mtuple\u001b[0m\u001b[0;34m(\u001b[0m\u001b[0mconvert_from_path\u001b[0m\u001b[0;34m(\u001b[0m\u001b[0mpath\u001b[0m\u001b[0;34m+\u001b[0m\u001b[0;34m'/'\u001b[0m\u001b[0;34m+\u001b[0m\u001b[0mi\u001b[0m\u001b[0;34m)\u001b[0m\u001b[0;34m)\u001b[0m\u001b[0;34m,\u001b[0m \u001b[0maxis\u001b[0m\u001b[0;34m=\u001b[0m\u001b[0;36m0\u001b[0m\u001b[0;34m)\u001b[0m\u001b[0;34m\u001b[0m\u001b[0;34m\u001b[0m\u001b[0m\n\u001b[0m\u001b[1;32m     12\u001b[0m         \u001b[0;31m#for j in range(len(images)):\u001b[0m\u001b[0;34m\u001b[0m\u001b[0;34m\u001b[0m\u001b[0;34m\u001b[0m\u001b[0m\n\u001b[1;32m     13\u001b[0m             \u001b[0;31m#image = cv2.imread(j)\u001b[0m\u001b[0;34m\u001b[0m\u001b[0;34m\u001b[0m\u001b[0;34m\u001b[0m\u001b[0m\n",
            "\u001b[0;32m<__array_function__ internals>\u001b[0m in \u001b[0;36mconcatenate\u001b[0;34m(*args, **kwargs)\u001b[0m\n",
            "\u001b[0;31mValueError\u001b[0m: all the input array dimensions for the concatenation axis must match exactly, but along dimension 1, the array at index 0 has size 1653 and the array at index 2 has size 1662"
          ]
        }
      ],
      "source": [
        "path='/content/sample_data/UntitledFolder'\n",
        "fil=1\n",
        "reader = easyocr.Reader(['en']) \n",
        "for i in os.listdir(path):\n",
        "    print(i)\n",
        "    print(i[-3:])\n",
        "    if(i[-3:]=='PDF' or i[-3:]=='pdf'):\n",
        "        #images = convert_from_path(path+'/'+i)\n",
        "        #print(images)\n",
        "        line=''\n",
        "        image = np.concatenate(tuple(convert_from_path(path+'/'+i)), axis=0)\n",
        "        #for j in range(len(images)):\n",
        "            #image = cv2.imread(j)\n",
        "        gray = cv2.cvtColor(image, cv2.COLOR_BGR2GRAY)\n",
        "        thresh = cv2.threshold(gray, 0, 255, cv2.THRESH_BINARY_INV + cv2.THRESH_OTSU)[1]\n",
        "\n",
        "        # Remove horizontal lines\n",
        "        horizontal_kernel = cv2.getStructuringElement(cv2.MORPH_RECT, (50,1))\n",
        "        detect_horizontal = cv2.morphologyEx(thresh, cv2.MORPH_OPEN, horizontal_kernel, iterations=2)\n",
        "        cnts = cv2.findContours(detect_horizontal, cv2.RETR_EXTERNAL, cv2.CHAIN_APPROX_SIMPLE)\n",
        "        cnts = cnts[0] if len(cnts) == 2 else cnts[1]\n",
        "        for c in cnts:\n",
        "            cv2.drawContours(thresh, [c], -1, (0,0,0), 2)\n",
        "\n",
        "        # Dilate to connect text and remove dots\n",
        "        kernel = cv2.getStructuringElement(cv2.MORPH_RECT, (10,1))\n",
        "        dilate = cv2.dilate(thresh, kernel, iterations=2)\n",
        "        cnts = cv2.findContours(dilate, cv2.RETR_EXTERNAL, cv2.CHAIN_APPROX_SIMPLE)\n",
        "        cnts = cnts[0] if len(cnts) == 2 else cnts[1]\n",
        "        for c in cnts:\n",
        "            area = cv2.contourArea(c)\n",
        "            if area < 100:\n",
        "                cv2.drawContours(dilate, [c], -1, (0,0,0), -1)\n",
        "\n",
        "        result = cv2.bitwise_and(image, image, mask=dilate)\n",
        "        result[dilate==0] = (255,255,255)\n",
        "        result1 = reader.readtext(result,detail=0,paragraph=True)\n",
        "        for res in result1:\n",
        "            line=line+' '+res\n",
        "    '''else:\n",
        "        image = cv2.imread(path+'/'+i)\n",
        "        gray = cv2.cvtColor(image, cv2.COLOR_BGR2GRAY)\n",
        "        thresh = cv2.threshold(gray, 0, 255, cv2.THRESH_BINARY_INV + cv2.THRESH_OTSU)[1]\n",
        "\n",
        "        # Remove horizontal lines\n",
        "        horizontal_kernel = cv2.getStructuringElement(cv2.MORPH_RECT, (50,1))\n",
        "        detect_horizontal = cv2.morphologyEx(thresh, cv2.MORPH_OPEN, horizontal_kernel, iterations=2)\n",
        "        cnts = cv2.findContours(detect_horizontal, cv2.RETR_EXTERNAL, cv2.CHAIN_APPROX_SIMPLE)\n",
        "        cnts = cnts[0] if len(cnts) == 2 else cnts[1]\n",
        "        for c in cnts:\n",
        "            cv2.drawContours(thresh, [c], -1, (0,0,0), 2)\n",
        "\n",
        "        # Dilate to connect text and remove dots\n",
        "        kernel = cv2.getStructuringElement(cv2.MORPH_RECT, (10,1))\n",
        "        dilate = cv2.dilate(thresh, kernel, iterations=2)\n",
        "        cnts = cv2.findContours(dilate, cv2.RETR_EXTERNAL, cv2.CHAIN_APPROX_SIMPLE)\n",
        "        cnts = cnts[0] if len(cnts) == 2 else cnts[1]\n",
        "        for c in cnts:\n",
        "            area = cv2.contourArea(c)\n",
        "            if area < 100:\n",
        "                cv2.drawContours(dilate, [c], -1, (0,0,0), -1)\n",
        "\n",
        "        result = cv2.bitwise_and(image, image, mask=dilate)\n",
        "        result[dilate==0] = (255,255,255)\n",
        "        result1 = reader.readtext(result,detail=0,paragraph=True)\n",
        "        line=''\n",
        "        for res in result1:\n",
        "            line=line+' '+res'''\n",
        "    f= open('/content/sample_data/UntitledFolder1/'+str(fil)+\".txt\",\"w+\")\n",
        "    for i in line:\n",
        "        f.write(i)\n",
        "    f.close()\n",
        "    print('/content/sample_data/UntitledFolder1/'+str(fil)+\".txt\")\n",
        "    fil+=1"
      ]
    }
  ]
}