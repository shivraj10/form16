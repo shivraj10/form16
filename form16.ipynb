{
  "nbformat": 4,
  "nbformat_minor": 0,
  "metadata": {
    "colab": {
      "name": "form16.ipynb",
      "provenance": []
    },
    "kernelspec": {
      "name": "python3",
      "display_name": "Python 3"
    },
    "language_info": {
      "name": "python"
    }
  },
  "cells": [
    {
      "cell_type": "code",
      "source": [
        "#install \n",
        "#!sudo apt install tesseract-ocr\n",
        "#!pip install easyocr\n",
        "#!pip install opencv-python-headless==4.1.2.30\n",
        "#!pip install pdf2image\n",
        "!apt-get install poppler-utils "
      ],
      "metadata": {
        "id": "XDt-nR0EQoLC"
      },
      "execution_count": null,
      "outputs": []
    },
    {
      "cell_type": "code",
      "source": [
        "import easyocr\n",
        "import numpy as np\n",
        "from pdf2image import convert_from_path"
      ],
      "metadata": {
        "id": "A-xgxrSaQjrB"
      },
      "execution_count": null,
      "outputs": []
    },
    {
      "cell_type": "code",
      "execution_count": null,
      "metadata": {
        "id": "DPeZ1TlMQhHe"
      },
      "outputs": [],
      "source": [
        "path='/content/sample_data/UntitledFolder'\n",
        "fil=1\n",
        "reader = easyocr.Reader(['en']) \n",
        "for i in os.listdir(path):\n",
        "    print(i)\n",
        "    print(i[-3:])\n",
        "    if(i[-3:]=='PDF'):\n",
        "        images = convert_from_path(path+'/'+i)\n",
        "        line=''\n",
        "        for j in range(len(images)):\n",
        "            result = reader.readtext(np.array(images[j]),detail=0)\n",
        "            for res in result:\n",
        "                line=line+' '+res\n",
        "        f= open('/content/sample_data/UntitledFolder1/'+str(fil)+\".txt\",\"w+\")\n",
        "        for i in line:\n",
        "            f.write(i)\n",
        "        f.close()\n",
        "        print('/content/sample_data/UntitledFolder1/'+str(fil)+\".txt\")\n",
        "        fil+=1\n",
        "    else:\n",
        "        result = reader.readtext(path+'/'+i,detail=0)\n",
        "        line=''\n",
        "        for res in result:\n",
        "            line=line+' '+res\n",
        "        f= open('/content/sample_data/UntitledFolder1/'+str(fil)+\".txt\",\"w+\")\n",
        "        for i in line:\n",
        "            f.write(i)\n",
        "        f.close()\n",
        "        print('/content/sample_data/UntitledFolder1/'+str(fil)+\".txt\")\n",
        "        fil+=1"
      ]
    }
  ]
}